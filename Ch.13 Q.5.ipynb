#Import necessary libraries
import tkinter as tk
from tkinter import messagebox

#Function to calculate property tax based on user input
def calculate_property_tax():
    try:
        # Get the actual value entered by the user
        actual_value = float(entry_actual_value.get())
        
        # Calculate the assessment value (60% of the actual value)
        assessment_value = 0.6 * actual_value
        
        # Calculate the property tax ($0.64 for each $100 of the assessment value)
        property_tax = (0.64 / 100) * assessment_value
        
        # Display the result in a pop-up window
        result_message = f"Assessment Value: ${assessment_value:.2f}\nProperty Tax: ${property_tax:.2f}"
        messagebox.showinfo("Calculation Result", result_message)
    except ValueError:
        # Handle the case where the user enters a non-numeric value
        messagebox.showerror("Input Error", "Please enter a valid numeric value for the actual value.")

# Create the main application window
root = tk.Tk()
root.title("Property Tax Estimator")

# Create labels and entry fields
label_actual_value = tk.Label(root, text="Enter Property Value:")
label_actual_value.pack()

entry_actual_value = tk.Entry(root)
entry_actual_value.pack()

# Create the calculate button
calculate_button = tk.Button(root, text="Estimate Tax", command=calculate_property_tax)
calculate_button.pack()

# Run the application
root.mainloop()
